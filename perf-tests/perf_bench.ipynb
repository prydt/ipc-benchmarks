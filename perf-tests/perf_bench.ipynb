{
 "cells": [
  {
   "cell_type": "markdown",
   "metadata": {},
   "source": [
    "# Perf Benchmarks\n",
    "\n",
    "Perf Bench already includes some basic scheduler and IPC benchmarks so I thought I'd look at this first.\n",
    "\n",
    "`perf bench sched messaging` uses sockets and `perf bench sched pipe` uses pipes."
   ]
  },
  {
   "cell_type": "code",
   "execution_count": 1,
   "metadata": {},
   "outputs": [
    {
     "data": {
      "text/plain": [
       "0.639"
      ]
     },
     "execution_count": 1,
     "metadata": {},
     "output_type": "execute_result"
    }
   ],
   "source": [
    "import subprocess\n",
    "\n",
    "def run_perf(benchmark=\"messaging\"):\n",
    "    loops = \"100000\" if benchmark==\"pipe\" else \"100\" # this makes both perf calls take similar time. NOTE: pipe is a lot slower than messaging.\n",
    "    return float(subprocess.run([\"perf\", \"bench\", \"--format\", \"simple\", \"sched\", benchmark, \"-l\",loops], capture_output=True).stdout.decode(\"utf-8\"))\n",
    "\n",
    "run_perf()\n"
   ]
  },
  {
   "cell_type": "code",
   "execution_count": 2,
   "metadata": {},
   "outputs": [
    {
     "name": "stdout",
     "output_type": "stream",
     "text": [
      "mean = 0.62558\n",
      "variance = 5.51836000000001e-05\n",
      "stddev = 0.007428566483514844\n"
     ]
    }
   ],
   "source": [
    "import statistics\n",
    "# avg. of running \"messaging\" benchmark 1000 times\n",
    "runs = [run_perf() for _ in range(100)]\n",
    "print(f\"mean = {statistics.fmean(runs)}\")\n",
    "print(f\"variance = {statistics.pvariance(runs)}\")\n",
    "print(f\"stddev = {statistics.pstdev(runs)}\")"
   ]
  },
  {
   "cell_type": "code",
   "execution_count": 3,
   "metadata": {},
   "outputs": [
    {
     "name": "stdout",
     "output_type": "stream",
     "text": [
      "default messaging\n",
      "mean = 0.62558\n",
      "variance = 5.51836000000001e-05\n",
      "stddev = 0.007428566483514844\n"
     ]
    }
   ],
   "source": [
    "def stats(name, runs):\n",
    "    print(name)\n",
    "    print(f\"mean = {statistics.fmean(runs)}\")\n",
    "    print(f\"variance = {statistics.pvariance(runs)}\")\n",
    "    print(f\"stddev = {statistics.pstdev(runs)}\")\n",
    "\n",
    "\n",
    "\n",
    "stats(\"default messaging\", runs)"
   ]
  },
  {
   "cell_type": "code",
   "execution_count": 4,
   "metadata": {},
   "outputs": [
    {
     "name": "stdout",
     "output_type": "stream",
     "text": [
      "default pipe\n",
      "mean = 0.8137099999999999\n",
      "variance = 0.011836985900000001\n",
      "stddev = 0.10879791312336833\n"
     ]
    }
   ],
   "source": [
    "runs = [run_perf(benchmark=\"pipe\") for _ in range(100)]\n",
    "stats(\"default pipe\", runs)"
   ]
  },
  {
   "cell_type": "markdown",
   "metadata": {},
   "source": [
    "## Conclusions?\n",
    "\n",
    "Can't say anything conclusively but the pipe benchmark by default is a lot slower (roughly 8 seconds compared to 0.6 for messaging). Does this mean that pipe is slower in general? I'm not sure yet. Will need to dig into these more."
   ]
  }
 ],
 "metadata": {
  "kernelspec": {
   "display_name": "venv",
   "language": "python",
   "name": "python3"
  },
  "language_info": {
   "codemirror_mode": {
    "name": "ipython",
    "version": 3
   },
   "file_extension": ".py",
   "mimetype": "text/x-python",
   "name": "python",
   "nbconvert_exporter": "python",
   "pygments_lexer": "ipython3",
   "version": "3.11.6"
  }
 },
 "nbformat": 4,
 "nbformat_minor": 2
}
